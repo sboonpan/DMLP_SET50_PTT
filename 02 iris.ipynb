{
 "cells": [
  {
   "cell_type": "markdown",
   "id": "296a98f5-4a2d-495c-bd06-937342ab6845",
   "metadata": {},
   "source": [
    "# ws 06"
   ]
  },
  {
   "cell_type": "code",
   "execution_count": null,
   "id": "500acb6a-f5d5-4da3-885e-b5d3766cd25c",
   "metadata": {},
   "outputs": [],
   "source": [
    "import pandas as pd\n",
    "import numpy as np\n",
    "import seaborn as sns\n",
    "import matplotlib.pyplot as plt"
   ]
  },
  {
   "cell_type": "code",
   "execution_count": null,
   "id": "75900792-7c79-4a74-91ef-d5b9803e06b3",
   "metadata": {},
   "outputs": [],
   "source": [
    "df = sns.load_dataset('iris')\n",
    "# df.head()\n",
    "df.sample(5, random_state=1)"
   ]
  },
  {
   "cell_type": "code",
   "execution_count": null,
   "id": "b7e796df-4f71-4bf8-8d4a-fd5ebf0e5f43",
   "metadata": {},
   "outputs": [],
   "source": [
    "df.isnull().sum()"
   ]
  },
  {
   "cell_type": "code",
   "execution_count": null,
   "id": "3bbd3804-2efb-4961-8b3b-80caf0a35742",
   "metadata": {},
   "outputs": [],
   "source": [
    "sns.scatterplot(x='petal_length', y='petal_width', data=df, hue='species', style='species', \n",
    "                alpha=0.85, edgecolor='w', s=100)\n",
    "plt.show()"
   ]
  },
  {
   "cell_type": "code",
   "execution_count": null,
   "id": "ddc27e54-500e-4e48-8218-c862094ab266",
   "metadata": {},
   "outputs": [],
   "source": [
    "y, class_names = pd.factorize(df.species, sort=True) \n",
    "# print(pd.unique(y))\n",
    "\n",
    "class_names, y[45:105]"
   ]
  },
  {
   "cell_type": "code",
   "execution_count": null,
   "id": "ac913cbd-f586-4b3a-9e26-253d5ba95219",
   "metadata": {},
   "outputs": [],
   "source": [
    "class_names, y = np.unique(df.species, return_inverse=True)\n",
    "class_names, y[45:105]"
   ]
  },
  {
   "cell_type": "code",
   "execution_count": null,
   "id": "efa36f54-fb4f-4c7f-8bd4-e8c2568b96f6",
   "metadata": {},
   "outputs": [],
   "source": [
    "X = df.drop('species', axis=1)\n",
    "# X.head(6)\n",
    "X.sample(6, random_state=1)"
   ]
  },
  {
   "cell_type": "code",
   "execution_count": null,
   "id": "29599edf-8b2f-42d9-9194-7243021107bd",
   "metadata": {},
   "outputs": [],
   "source": [
    "from sklearn.preprocessing import StandardScaler\n",
    "\n",
    "sc = StandardScaler()\n",
    "X_sc = sc.fit_transform(X)\n",
    "X_sc[:4]"
   ]
  },
  {
   "cell_type": "code",
   "execution_count": null,
   "id": "a95f03c2-5261-4121-9658-7d1e06a893a3",
   "metadata": {},
   "outputs": [],
   "source": [
    "from sklearn.model_selection import train_test_split\n",
    "\n",
    "X_train, X_test, y_train, y_test = train_test_split(X_sc, y, test_size=0.25, random_state=1) #\n",
    "\n",
    "X_train.shape, X_test.shape"
   ]
  },
  {
   "cell_type": "code",
   "execution_count": null,
   "id": "8330f139-90c7-49f1-96cf-8b47c8f4cfa1",
   "metadata": {},
   "outputs": [],
   "source": [
    "y_train.shape, y_test.shape "
   ]
  },
  {
   "cell_type": "code",
   "execution_count": null,
   "id": "3ae2dcbe-19e0-4b03-894d-e6bd3c72a1e6",
   "metadata": {},
   "outputs": [],
   "source": [
    "y_train[:5]"
   ]
  },
  {
   "cell_type": "code",
   "execution_count": null,
   "id": "91cdf84a-3b72-419d-a68b-7c5b36248a33",
   "metadata": {},
   "outputs": [],
   "source": [
    "from tensorflow.keras.utils import to_categorical\n",
    "\n",
    "def one_hot_encode(arr):\n",
    "    categories, ids = np.unique(arr, return_inverse=True)\n",
    "    return to_categorical(ids, len(categories))\n",
    "\n",
    "y_train_1h = one_hot_encode(y_train).astype('int')\n",
    "y_test_1h = one_hot_encode(y_test).astype('int')\n",
    "\n",
    "y_test_1h[:4]"
   ]
  },
  {
   "cell_type": "code",
   "execution_count": null,
   "id": "9372a800-45cf-4c0a-b035-6e80737ac1cb",
   "metadata": {},
   "outputs": [],
   "source": [
    "y_train_1h = pd.get_dummies(y_train)\n",
    "y_test_1h = pd.get_dummies(y_test)\n",
    "y_test_1h.head()"
   ]
  },
  {
   "cell_type": "code",
   "execution_count": null,
   "id": "97845b4f-708e-4c49-8a86-ccc73c35dd7f",
   "metadata": {},
   "outputs": [],
   "source": [
    "y_test_1h[:5] "
   ]
  },
  {
   "cell_type": "code",
   "execution_count": null,
   "id": "55b58507-3a8e-42a7-9313-4543458c23ad",
   "metadata": {},
   "outputs": [],
   "source": [
    "y_train_1h.shape, y_test_1h.shape "
   ]
  },
  {
   "cell_type": "code",
   "execution_count": null,
   "id": "8dfbcd71-319f-4de1-bff4-f961747e156f",
   "metadata": {},
   "outputs": [],
   "source": [
    "X_train[:4]"
   ]
  },
  {
   "cell_type": "code",
   "execution_count": null,
   "id": "afeef49a-af9f-4044-bcfd-bcfdb7524b40",
   "metadata": {},
   "outputs": [],
   "source": [
    "y_train[:4]"
   ]
  },
  {
   "cell_type": "code",
   "execution_count": null,
   "id": "4cc8adca-5c4f-48a3-b609-312fb2c1047d",
   "metadata": {},
   "outputs": [],
   "source": [
    "y_train_1h[:4]"
   ]
  },
  {
   "cell_type": "markdown",
   "id": "0db7ceba-63c1-479a-a57b-7b0721d4b0e3",
   "metadata": {},
   "source": [
    "# Model"
   ]
  },
  {
   "cell_type": "code",
   "execution_count": null,
   "id": "66968c46-3d8e-4198-ac31-b234c1228c36",
   "metadata": {},
   "outputs": [],
   "source": [
    "from tensorflow.keras import Sequential\n",
    "from tensorflow.keras.layers import Dense \n",
    "\n",
    "\n",
    "model = Sequential()\n",
    "\n",
    "hidden_node = 64\n",
    " \n",
    "model.add(Dense(hidden_node, activation='relu', input_shape=(4,))) \n",
    "\n",
    "model.add(Dense(3, activation='softmax'))"
   ]
  },
  {
   "cell_type": "code",
   "execution_count": null,
   "id": "4e3e4161-8069-460a-8ecb-26b2c31bb574",
   "metadata": {},
   "outputs": [],
   "source": [
    "model.summary()"
   ]
  },
  {
   "cell_type": "code",
   "execution_count": null,
   "id": "5c9b2ca3-e401-4fa9-b56f-4f90c4db8874",
   "metadata": {
    "tags": []
   },
   "outputs": [],
   "source": [
    "model.output_shape"
   ]
  },
  {
   "cell_type": "code",
   "execution_count": null,
   "id": "801417a1-2a50-46eb-8c2b-67902b5d35e5",
   "metadata": {
    "tags": []
   },
   "outputs": [],
   "source": [
    "model.get_config()"
   ]
  },
  {
   "cell_type": "code",
   "execution_count": null,
   "id": "9738473a-b7a2-43ef-8a15-62f56e0da281",
   "metadata": {},
   "outputs": [],
   "source": [
    "model.compile(loss='categorical_crossentropy',\n",
    "              optimizer='adam',\n",
    "              metrics=['accuracy'])"
   ]
  },
  {
   "cell_type": "code",
   "execution_count": null,
   "id": "f84b7311-abfe-4e58-b982-7d372adce187",
   "metadata": {},
   "outputs": [],
   "source": [
    "history = model.fit(X_train, y_train_1h, epochs=100, batch_size=8, verbose=1, validation_split=0.25) "
   ]
  },
  {
   "cell_type": "code",
   "execution_count": null,
   "id": "315d0ea7-6b0d-4743-8554-209838913b9f",
   "metadata": {
    "tags": []
   },
   "outputs": [],
   "source": [
    "score = model.evaluate(X_test, y_test_1h, verbose=0)\n",
    "print(\"Test loss:\", score[0])\n",
    "print(\"Test accuracy:\", score[1])"
   ]
  },
  {
   "cell_type": "code",
   "execution_count": null,
   "id": "020bd907-0383-4433-8534-a1c46cef1f21",
   "metadata": {
    "tags": []
   },
   "outputs": [],
   "source": [
    "model.metrics_names"
   ]
  },
  {
   "cell_type": "code",
   "execution_count": null,
   "id": "8ffecbb9-6b70-4bed-bc57-509d85003380",
   "metadata": {
    "tags": []
   },
   "outputs": [],
   "source": [
    "y_pred = model.predict(X_test)\n",
    "\n",
    "y_pred[:4]\n",
    "y_pred[:4].round(3)"
   ]
  },
  {
   "cell_type": "code",
   "execution_count": null,
   "id": "a259b073-ce0e-4fe6-a8a4-dc699086540f",
   "metadata": {},
   "outputs": [],
   "source": [
    "y_pred_cat = np.argmax(y_pred, axis=1)\n",
    "y_pred_cat[:4]"
   ]
  },
  {
   "cell_type": "code",
   "execution_count": null,
   "id": "5e108e7e-72b9-465b-9f98-03573bf43841",
   "metadata": {},
   "outputs": [],
   "source": [
    "from sklearn.metrics import classification_report, confusion_matrix\n",
    "print(classification_report(y_test, y_pred_cat, target_names=class_names))\n",
    "print(confusion_matrix(y_test, y_pred_cat))"
   ]
  },
  {
   "cell_type": "code",
   "execution_count": null,
   "id": "f824581e-794e-4005-a6cd-b2e768c1ded2",
   "metadata": {},
   "outputs": [],
   "source": [
    "df_hist = pd.DataFrame.from_dict(history.history)\n",
    "\n",
    "df_hist['loss'].plot(style='b--', label='Trainning')\n",
    "df_hist['val_loss'].plot(style='r-', label='Validation')\n",
    "plt.xlabel('Epoch')\n",
    "plt.ylabel('Loss')\n",
    "\n",
    "plt.legend()\n",
    "plt.title('Loss')\n",
    "plt.show()"
   ]
  },
  {
   "cell_type": "code",
   "execution_count": null,
   "id": "72a03d4a-b5c1-45b6-a1db-7d9d1c6b6150",
   "metadata": {},
   "outputs": [],
   "source": [
    "df_hist['accuracy'].plot(style='b--', label='Trainning')\n",
    "df_hist['val_accuracy'].plot(label='Test')\n",
    "\n",
    "plt.title('Model Accuracy')\n",
    "plt.ylabel('accuracy')\n",
    "plt.xlabel('epoch')\n",
    "plt.legend()\n",
    "plt.show()"
   ]
  },
  {
   "cell_type": "code",
   "execution_count": null,
   "id": "7f5d357c-9a48-4d30-8ca3-ad1ad9a8d875",
   "metadata": {},
   "outputs": [],
   "source": [
    "X_new = [[8.1, 4.0, 5.9, 2.1], # \n",
    "         [6.8, 3.6, 3.5, 1.4]] # \n",
    "\n",
    "# X_new = [[8.1, 4.0, 5.9, 2.1]]\n",
    "\n",
    "X_new_sc = sc.transform(X_new)\n",
    "X_new_sc"
   ]
  },
  {
   "cell_type": "code",
   "execution_count": null,
   "id": "e42b1cb6-67b5-4313-88d7-19d6087210fa",
   "metadata": {},
   "outputs": [],
   "source": [
    "y_pred_pr = model.predict(X_new_sc)\n",
    "y_pred = np.argmax(y_pred_pr, axis=1)\n",
    "print(class_names[y_pred])"
   ]
  },
  {
   "cell_type": "markdown",
   "id": "ff220d0a-d36c-46c3-8620-f2578c70d00d",
   "metadata": {},
   "source": [
    "## Boundary"
   ]
  },
  {
   "cell_type": "code",
   "execution_count": null,
   "id": "8afbaa8b-aabc-4e89-ba0e-71d91e40cad7",
   "metadata": {},
   "outputs": [],
   "source": [
    "class Onehot2Int(object):\n",
    "    def __init__(self, model):\n",
    "        self.model = model\n",
    "\n",
    "    def predict(self, X):\n",
    "        y_pred = self.model.predict(X)\n",
    "        return np.argmax(y_pred, axis=1)\n",
    "    \n",
    "model_no_ohe = Onehot2Int(model)    "
   ]
  },
  {
   "cell_type": "code",
   "execution_count": null,
   "id": "4b270a6d-c12e-4c15-9cae-01c520d69728",
   "metadata": {},
   "outputs": [],
   "source": [
    "from mlxtend.plotting import plot_decision_regions\n",
    "\n",
    "value = 0\n",
    "width = 5.5\n",
    "\n",
    "ax = plot_decision_regions(X_test, np.array(y_test),\n",
    "\n",
    "                    clf=model_no_ohe, feature_index=[2, 3],  \n",
    "                    filler_feature_values={0: value, 1: value},\n",
    "                    filler_feature_ranges={0: width, 1: width},\n",
    "                    legend=2)\n",
    "\n",
    "handles, labels = ax.get_legend_handles_labels()\n",
    "ax.legend(handles, class_names, framealpha=0.5)\n",
    "\n",
    "plt.title('Iris (Hidden={})'.format(hidden_node))\n",
    "# plt.xticks([])\n",
    "plt.yticks([])\n",
    "plt.xlabel('petal_length')\n",
    "plt.ylabel('petal_width')\n",
    "\n",
    "plt.scatter(X_new_sc[:,2][y_pred==0], X_new_sc[:,3][y_pred==0], marker='s', s=180, c='b')\n",
    "plt.scatter(X_new_sc[:,2][y_pred==1], X_new_sc[:,3][y_pred==1], marker='^', s=230, c='#7d4128') # \n",
    "plt.scatter(X_new_sc[:,2][y_pred==2], X_new_sc[:,3][y_pred==2], marker='o', s=150, c='b')\n",
    "plt.show()"
   ]
  },
  {
   "cell_type": "code",
   "execution_count": null,
   "id": "62c1f60c-9645-4dfa-b49e-6626c6f67f39",
   "metadata": {},
   "outputs": [],
   "source": []
  }
 ],
 "metadata": {
  "kernelspec": {
   "display_name": "Python 3 (ipykernel)",
   "language": "python",
   "name": "python3"
  },
  "language_info": {
   "codemirror_mode": {
    "name": "ipython",
    "version": 3
   },
   "file_extension": ".py",
   "mimetype": "text/x-python",
   "name": "python",
   "nbconvert_exporter": "python",
   "pygments_lexer": "ipython3",
   "version": "3.9.7"
  }
 },
 "nbformat": 4,
 "nbformat_minor": 5
}
